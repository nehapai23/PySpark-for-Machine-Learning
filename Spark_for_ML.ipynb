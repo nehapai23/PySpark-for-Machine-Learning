{
  "nbformat": 4,
  "nbformat_minor": 0,
  "metadata": {
    "colab": {
      "name": "Spark for ML.ipynb",
      "provenance": [],
      "collapsed_sections": []
    },
    "kernelspec": {
      "name": "python3",
      "display_name": "Python 3"
    }
  },
  "cells": [
    {
      "cell_type": "markdown",
      "metadata": {
        "id": "97bZzP72Ech6",
        "colab_type": "text"
      },
      "source": [
        "Getting started with Pyspark"
      ]
    },
    {
      "cell_type": "code",
      "metadata": {
        "id": "X4Hs9Spu7sM0",
        "colab_type": "code",
        "colab": {}
      },
      "source": [
        "!apt-get install openjdk-8-jdk-headless -qq > /dev/null\n",
        "!wget -q https://downloads.apache.org/spark/spark-2.4.5/spark-2.4.5-bin-hadoop2.7.tgz\n",
        "!tar xf spark-2.4.5-bin-hadoop2.7.tgz\n",
        "!pip install -q findspark"
      ],
      "execution_count": 0,
      "outputs": []
    },
    {
      "cell_type": "code",
      "metadata": {
        "id": "K-A1mU-SCD6C",
        "colab_type": "code",
        "colab": {}
      },
      "source": [
        "import os\n",
        "os.environ[\"JAVA_HOME\"] = \"/usr/lib/jvm/java-8-openjdk-amd64\"\n",
        "os.environ[\"SPARK_HOME\"] = \"/content/spark-2.4.5-bin-hadoop2.7\""
      ],
      "execution_count": 0,
      "outputs": []
    },
    {
      "cell_type": "code",
      "metadata": {
        "id": "G1GxF5707qpU",
        "colab_type": "code",
        "colab": {}
      },
      "source": [
        "import findspark\n",
        "findspark.init()\n",
        "from pyspark.sql import SparkSession\n",
        "spark = SparkSession.builder.master(\"local[*]\").getOrCreate()"
      ],
      "execution_count": 0,
      "outputs": []
    },
    {
      "cell_type": "code",
      "metadata": {
        "id": "E4ygJUNS9u7N",
        "colab_type": "code",
        "colab": {}
      },
      "source": [
        "emp_df = spark.read.csv(\"dataset/employee.txt\",header=True)"
      ],
      "execution_count": 0,
      "outputs": []
    },
    {
      "cell_type": "markdown",
      "metadata": {
        "id": "zpSucoSdEw7x",
        "colab_type": "text"
      },
      "source": [
        "# Basics and Data preprocessing"
      ]
    },
    {
      "cell_type": "code",
      "metadata": {
        "id": "LDamxaCG-ADd",
        "colab_type": "code",
        "colab": {}
      },
      "source": [
        "emp_df.columns"
      ],
      "execution_count": 0,
      "outputs": []
    },
    {
      "cell_type": "code",
      "metadata": {
        "id": "1R0DoPoP-aK5",
        "colab_type": "code",
        "colab": {}
      },
      "source": [
        "emp_df.take(5)"
      ],
      "execution_count": 0,
      "outputs": []
    },
    {
      "cell_type": "code",
      "metadata": {
        "id": "24Seime_-c0M",
        "colab_type": "code",
        "colab": {}
      },
      "source": [
        "emp_df.count()"
      ],
      "execution_count": 0,
      "outputs": []
    },
    {
      "cell_type": "code",
      "metadata": {
        "id": "DTb4Y7nq-gUz",
        "colab_type": "code",
        "colab": {}
      },
      "source": [
        "sample_df = emp_df.sample(False, 0.1)\n",
        "sample_df.take(5)"
      ],
      "execution_count": 0,
      "outputs": []
    },
    {
      "cell_type": "code",
      "metadata": {
        "id": "ip6Ko77u-uPa",
        "colab_type": "code",
        "colab": {}
      },
      "source": [
        "emp_managers_df = emp_df.filter(\"salary>=100000\")"
      ],
      "execution_count": 0,
      "outputs": []
    },
    {
      "cell_type": "code",
      "metadata": {
        "id": "43nCXNMm-5Ao",
        "colab_type": "code",
        "colab": {}
      },
      "source": [
        "emp_managers_df.select(\"salary\").show()"
      ],
      "execution_count": 0,
      "outputs": []
    },
    {
      "cell_type": "markdown",
      "metadata": {
        "id": "qqbRfL9NY99b",
        "colab_type": "text"
      },
      "source": [
        "## Normalize data"
      ]
    },
    {
      "cell_type": "code",
      "metadata": {
        "id": "kjGvfeOpA3bP",
        "colab_type": "code",
        "colab": {}
      },
      "source": [
        "import numpy as np\n",
        "from pyspark.ml.feature import MinMaxScaler\n",
        "from pyspark.ml.linalg import Vectors"
      ],
      "execution_count": 0,
      "outputs": []
    },
    {
      "cell_type": "code",
      "metadata": {
        "id": "_I2GUP_5BNNt",
        "colab_type": "code",
        "colab": {}
      },
      "source": [
        "features_df = spark.createDataFrame([\n",
        "  (1,Vectors.dense([10.0, 10000.0, 1.0]),),\n",
        "  (2,Vectors.dense([20.0, 20000.0, 2.0]),),\n",
        "  (3,Vectors.dense([30.0, 30000.0, 3.0]),)],\n",
        "  [\"id\",\"features\"]\n",
        ")"
      ],
      "execution_count": 0,
      "outputs": []
    },
    {
      "cell_type": "code",
      "metadata": {
        "id": "LUD3uy_4CRsz",
        "colab_type": "code",
        "colab": {}
      },
      "source": [
        "features_df.take(1)"
      ],
      "execution_count": 0,
      "outputs": []
    },
    {
      "cell_type": "code",
      "metadata": {
        "id": "kpRV_LnXCbTH",
        "colab_type": "code",
        "colab": {}
      },
      "source": [
        "feature_scaler = MinMaxScaler(inputCol=\"features\",outputCol=\"sFeatures\")\n",
        "smodel = feature_scaler.fit(features_df)\n",
        "sFeatures_df = smodel.transform(features_df)"
      ],
      "execution_count": 0,
      "outputs": []
    },
    {
      "cell_type": "code",
      "metadata": {
        "id": "Zr_Df251C4xL",
        "colab_type": "code",
        "colab": {}
      },
      "source": [
        "sFeatures_df.select(\"Features\",\"sFeatures\").show()"
      ],
      "execution_count": 0,
      "outputs": []
    },
    {
      "cell_type": "markdown",
      "metadata": {
        "id": "A7bQIFXRZC9e",
        "colab_type": "text"
      },
      "source": [
        "## Standardize numeric data- Mapping data to normal distribution"
      ]
    },
    {
      "cell_type": "code",
      "metadata": {
        "id": "dtq3IKLoZGPU",
        "colab_type": "code",
        "colab": {}
      },
      "source": [
        "from pyspark.ml.feature import StandardScaler\n",
        "from pyspark.ml.linalg import Vectors"
      ],
      "execution_count": 0,
      "outputs": []
    },
    {
      "cell_type": "code",
      "metadata": {
        "id": "dECaJarqchh0",
        "colab_type": "code",
        "colab": {}
      },
      "source": [
        "features_df = spark.createDataFrame([\n",
        "  (1,Vectors.dense([10.0, 10000.0, 1.0]),),\n",
        "  (2,Vectors.dense([20.0, 30000.0, 2.0]),),\n",
        "  (3,Vectors.dense([30.0, 40000.0, 3.0]),)],\n",
        "  [\"id\",\"features\"]\n",
        ")\n",
        "features_df.take(1)"
      ],
      "execution_count": 0,
      "outputs": []
    },
    {
      "cell_type": "code",
      "metadata": {
        "id": "s54AksKYjhWX",
        "colab_type": "code",
        "colab": {}
      },
      "source": [
        "feature_standard_scalar = StandardScaler(inputCol=\"features\", outputCol=\"sFeatures\",withStd=True,withMean=True)\n",
        "scModel = feature_standard_scalar.fit(features_df)\n",
        "scFeatures_df = scModel.transform(features_df)\n",
        "scFeatures_df.select(\"features\",\"sFeatures\").show()"
      ],
      "execution_count": 0,
      "outputs": []
    },
    {
      "cell_type": "markdown",
      "metadata": {
        "id": "TklxZkjRkiOr",
        "colab_type": "text"
      },
      "source": [
        "## Bucketize numeric data"
      ]
    },
    {
      "cell_type": "code",
      "metadata": {
        "id": "R_Q_busUkh2A",
        "colab_type": "code",
        "colab": {}
      },
      "source": [
        "from pyspark.ml.feature import Bucketizer\n",
        "splits = [-float(\"Inf\"),-10.0,0,10, float(\"Inf\")]"
      ],
      "execution_count": 0,
      "outputs": []
    },
    {
      "cell_type": "code",
      "metadata": {
        "id": "m6OMvT4f4Wqb",
        "colab_type": "code",
        "colab": {}
      },
      "source": [
        "b_data = [(-800,),(-19,),(10,),(4,),(6,),(11,),(800,)]\n",
        "b_df = spark.createDataFrame(b_data,[\"features\"])\n",
        "b_df.show()"
      ],
      "execution_count": 0,
      "outputs": []
    },
    {
      "cell_type": "code",
      "metadata": {
        "id": "yE7Ih8eT5L3u",
        "colab_type": "code",
        "colab": {}
      },
      "source": [
        "bucketizer = Bucketizer(splits=splits,inputCol=\"features\",outputCol=\"bFeatures\")\n",
        "bucketed_df = bucketizer.transform(b_df)"
      ],
      "execution_count": 0,
      "outputs": []
    },
    {
      "cell_type": "code",
      "metadata": {
        "id": "t5ymUm-n6A4B",
        "colab_type": "code",
        "colab": {}
      },
      "source": [
        "bucketed_df.show()"
      ],
      "execution_count": 0,
      "outputs": []
    },
    {
      "cell_type": "markdown",
      "metadata": {
        "id": "PVrPGgcFXJOQ",
        "colab_type": "text"
      },
      "source": [
        "## Working with Text Data - Tokenization"
      ]
    },
    {
      "cell_type": "code",
      "metadata": {
        "id": "fcW0IceTXGJi",
        "colab_type": "code",
        "colab": {}
      },
      "source": [
        "from pyspark.ml.feature import Tokenizer"
      ],
      "execution_count": 0,
      "outputs": []
    },
    {
      "cell_type": "code",
      "metadata": {
        "id": "tzqe59gZXWGZ",
        "colab_type": "code",
        "colab": {}
      },
      "source": [
        "sentences_df = spark.createDataFrame([\n",
        "  (1,\"This is an introduction to Spark MLlib\"),\n",
        "  (2,\"MLlib includes libraries for classification and regression\"),\n",
        "  (3,\"It also contains supporting tools and pipelines\")],\n",
        "  [\"id\",\"sentence\"])"
      ],
      "execution_count": 0,
      "outputs": []
    },
    {
      "cell_type": "code",
      "metadata": {
        "id": "Mk9SHv1XX5b5",
        "colab_type": "code",
        "outputId": "8aaaa773-e7f9-4adb-c904-25e9ba9e55fa",
        "colab": {
          "base_uri": "https://localhost:8080/",
          "height": 155
        }
      },
      "source": [
        "sentences_df.show()"
      ],
      "execution_count": 0,
      "outputs": [
        {
          "output_type": "stream",
          "text": [
            "+---+--------------------+\n",
            "| id|            sentence|\n",
            "+---+--------------------+\n",
            "|  1|This is an introd...|\n",
            "|  2|MLlib includes li...|\n",
            "|  3|It also contains ...|\n",
            "+---+--------------------+\n",
            "\n"
          ],
          "name": "stdout"
        }
      ]
    },
    {
      "cell_type": "code",
      "metadata": {
        "id": "NUWVOpKVX9z9",
        "colab_type": "code",
        "outputId": "eeb0369d-b105-4342-8e00-6947f2bbfcc4",
        "colab": {
          "base_uri": "https://localhost:8080/",
          "height": 155
        }
      },
      "source": [
        "sent_token = Tokenizer(inputCol=\"sentence\",outputCol=\"words\")\n",
        "sent_tokenized_df = sent_token.transform(sentences_df)\n",
        "sent_tokenized_df.show()"
      ],
      "execution_count": 0,
      "outputs": [
        {
          "output_type": "stream",
          "text": [
            "+---+--------------------+--------------------+\n",
            "| id|            sentence|               words|\n",
            "+---+--------------------+--------------------+\n",
            "|  1|This is an introd...|[this, is, an, in...|\n",
            "|  2|MLlib includes li...|[mllib, includes,...|\n",
            "|  3|It also contains ...|[it, also, contai...|\n",
            "+---+--------------------+--------------------+\n",
            "\n"
          ],
          "name": "stdout"
        }
      ]
    },
    {
      "cell_type": "markdown",
      "metadata": {
        "id": "Dy9UzrcxY9j1",
        "colab_type": "text"
      },
      "source": [
        "## TD-IDF"
      ]
    },
    {
      "cell_type": "code",
      "metadata": {
        "id": "rfMnNtzwY_1m",
        "colab_type": "code",
        "colab": {}
      },
      "source": [
        "from pyspark.ml.feature import HashingTF, IDF"
      ],
      "execution_count": 0,
      "outputs": []
    },
    {
      "cell_type": "code",
      "metadata": {
        "id": "wvccF_HyZHvI",
        "colab_type": "code",
        "outputId": "8ae3ade1-f15a-4288-a298-0b5b52684cd2",
        "colab": {
          "base_uri": "https://localhost:8080/",
          "height": 54
        }
      },
      "source": [
        "hashingTF = HashingTF(inputCol=\"words\",outputCol=\"rawFeatures\",numFeatures=20)\n",
        "sent_hfTF_df = hashingTF.transform(sent_tokenized_df)\n",
        "sent_hfTF_df.take(1)"
      ],
      "execution_count": 0,
      "outputs": [
        {
          "output_type": "execute_result",
          "data": {
            "text/plain": [
              "[Row(id=1, sentence='This is an introduction to Spark MLlib', words=['this', 'is', 'an', 'introduction', 'to', 'spark', 'mllib'], rawFeatures=SparseVector(20, {1: 2.0, 5: 1.0, 6: 1.0, 8: 1.0, 12: 1.0, 13: 1.0}))]"
            ]
          },
          "metadata": {
            "tags": []
          },
          "execution_count": 34
        }
      ]
    },
    {
      "cell_type": "code",
      "metadata": {
        "id": "VzBxcPr58ItS",
        "colab_type": "code",
        "colab": {}
      },
      "source": [
        "idf = IDF(inputCol=\"rawFeatures\",outputCol=\"idf_features\")\n",
        "idfModel = idf.fit(sent_hfTF_df)\n",
        "tfidf_df =idfModel.transform(sent_hfTF_df)"
      ],
      "execution_count": 0,
      "outputs": []
    },
    {
      "cell_type": "code",
      "metadata": {
        "id": "3x0atoHf9WcD",
        "colab_type": "code",
        "outputId": "58c036f1-bd9c-4d47-f5cd-f9d7aa7302c5",
        "colab": {
          "base_uri": "https://localhost:8080/",
          "height": 54
        }
      },
      "source": [
        "tfidf_df.take(1)"
      ],
      "execution_count": 0,
      "outputs": [
        {
          "output_type": "execute_result",
          "data": {
            "text/plain": [
              "[Row(id=1, sentence='This is an introduction to Spark MLlib', words=['this', 'is', 'an', 'introduction', 'to', 'spark', 'mllib'], rawFeatures=SparseVector(20, {1: 2.0, 5: 1.0, 6: 1.0, 8: 1.0, 12: 1.0, 13: 1.0}), idf_features=SparseVector(20, {1: 0.5754, 5: 0.6931, 6: 0.2877, 8: 0.2877, 12: 0.0, 13: 0.0}))]"
            ]
          },
          "metadata": {
            "tags": []
          },
          "execution_count": 36
        }
      ]
    },
    {
      "cell_type": "markdown",
      "metadata": {
        "id": "JpF5QZr7_vqr",
        "colab_type": "text"
      },
      "source": [
        "# Clustering using MLlib\n"
      ]
    },
    {
      "cell_type": "markdown",
      "metadata": {
        "id": "jDRQhf07EUzX",
        "colab_type": "text"
      },
      "source": [
        "## KMeans clustering"
      ]
    },
    {
      "cell_type": "code",
      "metadata": {
        "id": "Gj6_xOkh_1Jn",
        "colab_type": "code",
        "colab": {}
      },
      "source": [
        "from pyspark.ml.linalg import Vectors\n",
        "from pyspark.ml.feature import VectorAssembler\n",
        "from pyspark.ml.clustering import KMeans"
      ],
      "execution_count": 0,
      "outputs": []
    },
    {
      "cell_type": "code",
      "metadata": {
        "id": "5TOEyvx5_33I",
        "colab_type": "code",
        "colab": {}
      },
      "source": [
        "cluster_df = spark.read.csv(\"dataset/clustering_dataset.csv\",header=True,inferSchema=True)"
      ],
      "execution_count": 0,
      "outputs": []
    },
    {
      "cell_type": "code",
      "metadata": {
        "id": "6vzgn-CXAY-y",
        "colab_type": "code",
        "outputId": "3b09c6b8-afd8-485a-eac1-a5f215ab782b",
        "colab": {
          "base_uri": "https://localhost:8080/",
          "height": 467
        }
      },
      "source": [
        "cluster_df.show()"
      ],
      "execution_count": 0,
      "outputs": [
        {
          "output_type": "stream",
          "text": [
            "+----+----+----+\n",
            "|col1|col2|col3|\n",
            "+----+----+----+\n",
            "|   7|   4|   1|\n",
            "|   7|   7|   9|\n",
            "|   7|   9|   6|\n",
            "|   1|   6|   5|\n",
            "|   6|   7|   7|\n",
            "|   7|   9|   4|\n",
            "|   7|  10|   6|\n",
            "|   7|   8|   2|\n",
            "|   8|   3|   8|\n",
            "|   4|  10|   5|\n",
            "|   7|   4|   5|\n",
            "|   7|   8|   4|\n",
            "|   2|   5|   1|\n",
            "|   2|   6|   2|\n",
            "|   2|   3|   8|\n",
            "|   3|   9|   1|\n",
            "|   4|   2|   9|\n",
            "|   1|   7|   1|\n",
            "|   6|   2|   3|\n",
            "|   4|   1|   9|\n",
            "+----+----+----+\n",
            "only showing top 20 rows\n",
            "\n"
          ],
          "name": "stdout"
        }
      ]
    },
    {
      "cell_type": "code",
      "metadata": {
        "id": "1Mw5wYR5ApDb",
        "colab_type": "code",
        "colab": {}
      },
      "source": [
        "vectorAssembler = VectorAssembler(inputCols=[\"col1\",\"col2\",\"col3\"],outputCol=\"features\")\n",
        "vcluster_df = vectorAssembler.transform(cluster_df)"
      ],
      "execution_count": 0,
      "outputs": []
    },
    {
      "cell_type": "code",
      "metadata": {
        "id": "rRBCMbwEA7XJ",
        "colab_type": "code",
        "outputId": "1a0b530c-b00b-4797-9cb6-4c5fb130fc5d",
        "colab": {
          "base_uri": "https://localhost:8080/",
          "height": 467
        }
      },
      "source": [
        "vcluster_df.show()"
      ],
      "execution_count": 0,
      "outputs": [
        {
          "output_type": "stream",
          "text": [
            "+----+----+----+--------------+\n",
            "|col1|col2|col3|      features|\n",
            "+----+----+----+--------------+\n",
            "|   7|   4|   1| [7.0,4.0,1.0]|\n",
            "|   7|   7|   9| [7.0,7.0,9.0]|\n",
            "|   7|   9|   6| [7.0,9.0,6.0]|\n",
            "|   1|   6|   5| [1.0,6.0,5.0]|\n",
            "|   6|   7|   7| [6.0,7.0,7.0]|\n",
            "|   7|   9|   4| [7.0,9.0,4.0]|\n",
            "|   7|  10|   6|[7.0,10.0,6.0]|\n",
            "|   7|   8|   2| [7.0,8.0,2.0]|\n",
            "|   8|   3|   8| [8.0,3.0,8.0]|\n",
            "|   4|  10|   5|[4.0,10.0,5.0]|\n",
            "|   7|   4|   5| [7.0,4.0,5.0]|\n",
            "|   7|   8|   4| [7.0,8.0,4.0]|\n",
            "|   2|   5|   1| [2.0,5.0,1.0]|\n",
            "|   2|   6|   2| [2.0,6.0,2.0]|\n",
            "|   2|   3|   8| [2.0,3.0,8.0]|\n",
            "|   3|   9|   1| [3.0,9.0,1.0]|\n",
            "|   4|   2|   9| [4.0,2.0,9.0]|\n",
            "|   1|   7|   1| [1.0,7.0,1.0]|\n",
            "|   6|   2|   3| [6.0,2.0,3.0]|\n",
            "|   4|   1|   9| [4.0,1.0,9.0]|\n",
            "+----+----+----+--------------+\n",
            "only showing top 20 rows\n",
            "\n"
          ],
          "name": "stdout"
        }
      ]
    },
    {
      "cell_type": "code",
      "metadata": {
        "id": "SiJsD724Cp2l",
        "colab_type": "code",
        "colab": {}
      },
      "source": [
        "kmeans = KMeans().setK(3)\n",
        "kmeans = kmeans.setSeed(1)\n",
        "kmodel = kmeans.fit(vcluster_df)"
      ],
      "execution_count": 0,
      "outputs": []
    },
    {
      "cell_type": "code",
      "metadata": {
        "id": "sfeQHzPmD-r5",
        "colab_type": "code",
        "outputId": "ce3668c6-51ff-48c9-d2a3-3f91c443c833",
        "colab": {
          "base_uri": "https://localhost:8080/",
          "height": 69
        }
      },
      "source": [
        "centers =kmodel.clusterCenters()\n",
        "centers"
      ],
      "execution_count": 0,
      "outputs": [
        {
          "output_type": "execute_result",
          "data": {
            "text/plain": [
              "[array([35.88461538, 31.46153846, 34.42307692]),\n",
              " array([5.12, 5.84, 4.84]),\n",
              " array([80.        , 79.20833333, 78.29166667])]"
            ]
          },
          "metadata": {
            "tags": []
          },
          "execution_count": 40
        }
      ]
    },
    {
      "cell_type": "markdown",
      "metadata": {
        "id": "YTHKw8yhE5Tl",
        "colab_type": "text"
      },
      "source": [
        "## Hierarchial Clustering"
      ]
    },
    {
      "cell_type": "code",
      "metadata": {
        "id": "5S3-zXC6E8T_",
        "colab_type": "code",
        "outputId": "b30f7af0-3dc8-47ec-d4db-91f5372ac9e0",
        "colab": {
          "base_uri": "https://localhost:8080/",
          "height": 467
        }
      },
      "source": [
        "vcluster_df.show()"
      ],
      "execution_count": 0,
      "outputs": [
        {
          "output_type": "stream",
          "text": [
            "+----+----+----+--------------+\n",
            "|col1|col2|col3|      features|\n",
            "+----+----+----+--------------+\n",
            "|   7|   4|   1| [7.0,4.0,1.0]|\n",
            "|   7|   7|   9| [7.0,7.0,9.0]|\n",
            "|   7|   9|   6| [7.0,9.0,6.0]|\n",
            "|   1|   6|   5| [1.0,6.0,5.0]|\n",
            "|   6|   7|   7| [6.0,7.0,7.0]|\n",
            "|   7|   9|   4| [7.0,9.0,4.0]|\n",
            "|   7|  10|   6|[7.0,10.0,6.0]|\n",
            "|   7|   8|   2| [7.0,8.0,2.0]|\n",
            "|   8|   3|   8| [8.0,3.0,8.0]|\n",
            "|   4|  10|   5|[4.0,10.0,5.0]|\n",
            "|   7|   4|   5| [7.0,4.0,5.0]|\n",
            "|   7|   8|   4| [7.0,8.0,4.0]|\n",
            "|   2|   5|   1| [2.0,5.0,1.0]|\n",
            "|   2|   6|   2| [2.0,6.0,2.0]|\n",
            "|   2|   3|   8| [2.0,3.0,8.0]|\n",
            "|   3|   9|   1| [3.0,9.0,1.0]|\n",
            "|   4|   2|   9| [4.0,2.0,9.0]|\n",
            "|   1|   7|   1| [1.0,7.0,1.0]|\n",
            "|   6|   2|   3| [6.0,2.0,3.0]|\n",
            "|   4|   1|   9| [4.0,1.0,9.0]|\n",
            "+----+----+----+--------------+\n",
            "only showing top 20 rows\n",
            "\n"
          ],
          "name": "stdout"
        }
      ]
    },
    {
      "cell_type": "code",
      "metadata": {
        "id": "zUwGJdQmFD1u",
        "colab_type": "code",
        "colab": {}
      },
      "source": [
        "from pyspark.ml.clustering import BisectingKMeans\n",
        "bkmeans = BisectingKMeans().setK(3)\n",
        "bkmeans = bkmeans.setSeed(1)"
      ],
      "execution_count": 0,
      "outputs": []
    },
    {
      "cell_type": "code",
      "metadata": {
        "id": "YEeLNuJwFR0I",
        "colab_type": "code",
        "colab": {}
      },
      "source": [
        "bkmodel = bkmeans.fit(vcluster_df)\n",
        "bkCenters = bkmodel.clusterCenters()"
      ],
      "execution_count": 0,
      "outputs": []
    },
    {
      "cell_type": "code",
      "metadata": {
        "id": "YuObBxX0Fgb2",
        "colab_type": "code",
        "outputId": "ad98a4d7-77a2-4d0c-a15b-8ef3da77624c",
        "colab": {
          "base_uri": "https://localhost:8080/",
          "height": 69
        }
      },
      "source": [
        "bkCenters"
      ],
      "execution_count": 0,
      "outputs": [
        {
          "output_type": "execute_result",
          "data": {
            "text/plain": [
              "[array([5.12, 5.84, 4.84]),\n",
              " array([35.88461538, 31.46153846, 34.42307692]),\n",
              " array([80.        , 79.20833333, 78.29166667])]"
            ]
          },
          "metadata": {
            "tags": []
          },
          "execution_count": 44
        }
      ]
    },
    {
      "cell_type": "code",
      "metadata": {
        "id": "5WjX_Q0jFlsS",
        "colab_type": "code",
        "outputId": "fafabbd4-733e-48e2-dd05-686fa3ee6ffb",
        "colab": {
          "base_uri": "https://localhost:8080/",
          "height": 69
        }
      },
      "source": [
        "centers"
      ],
      "execution_count": 0,
      "outputs": [
        {
          "output_type": "execute_result",
          "data": {
            "text/plain": [
              "[array([35.88461538, 31.46153846, 34.42307692]),\n",
              " array([5.12, 5.84, 4.84]),\n",
              " array([80.        , 79.20833333, 78.29166667])]"
            ]
          },
          "metadata": {
            "tags": []
          },
          "execution_count": 45
        }
      ]
    },
    {
      "cell_type": "code",
      "metadata": {
        "id": "jLDBzC6a9vU9",
        "colab_type": "code",
        "colab": {}
      },
      "source": [
        ""
      ],
      "execution_count": 0,
      "outputs": []
    },
    {
      "cell_type": "markdown",
      "metadata": {
        "id": "Wpt72bH49wDr",
        "colab_type": "text"
      },
      "source": [
        "# Classification using MLlib"
      ]
    },
    {
      "cell_type": "code",
      "metadata": {
        "id": "b1u9ivqD92eZ",
        "colab_type": "code",
        "colab": {}
      },
      "source": [
        "from pyspark.sql.functions import *\n",
        "from pyspark.ml.feature import VectorAssembler\n",
        "from pyspark.ml.feature import StringIndexer"
      ],
      "execution_count": 0,
      "outputs": []
    },
    {
      "cell_type": "code",
      "metadata": {
        "id": "D_xBcUkODCHg",
        "colab_type": "code",
        "colab": {}
      },
      "source": [
        "iris_df = spark.read.csv(\"dataset/iris.txt\", inferSchema=True)"
      ],
      "execution_count": 0,
      "outputs": []
    },
    {
      "cell_type": "code",
      "metadata": {
        "id": "ACNpBkIpDSTh",
        "colab_type": "code",
        "outputId": "34f37314-0f0e-491c-ce0f-d61314da5e87",
        "colab": {
          "base_uri": "https://localhost:8080/",
          "height": 51
        }
      },
      "source": [
        "iris_df.take(2)"
      ],
      "execution_count": 25,
      "outputs": [
        {
          "output_type": "execute_result",
          "data": {
            "text/plain": [
              "[Row(_c0=5.1, _c1=3.5, _c2=1.4, _c3=0.2, _c4='Iris-setosa'),\n",
              " Row(_c0=4.9, _c1=3.0, _c2=1.4, _c3=0.2, _c4='Iris-setosa')]"
            ]
          },
          "metadata": {
            "tags": []
          },
          "execution_count": 25
        }
      ]
    },
    {
      "cell_type": "code",
      "metadata": {
        "id": "dF9HStl_DaPE",
        "colab_type": "code",
        "colab": {}
      },
      "source": [
        "iris_df = iris_df.select(col(\"_c0\").alias(\"sepal_length\"),\n",
        "                         col(\"_c1\").alias(\"sepal_width\"),\n",
        "                         col(\"_c2\").alias(\"petal_length\"),\n",
        "                         col(\"_c3\").alias(\"petal_width\"),\n",
        "                         col(\"_c4\").alias(\"species\"))"
      ],
      "execution_count": 0,
      "outputs": []
    },
    {
      "cell_type": "code",
      "metadata": {
        "id": "hGAB1XT9D6rG",
        "colab_type": "code",
        "outputId": "7be82136-b516-49d7-83e1-b0ec8d709702",
        "colab": {
          "base_uri": "https://localhost:8080/",
          "height": 51
        }
      },
      "source": [
        "iris_df.take(2)"
      ],
      "execution_count": 27,
      "outputs": [
        {
          "output_type": "execute_result",
          "data": {
            "text/plain": [
              "[Row(sepal_length=5.1, sepal_width=3.5, petal_length=1.4, petal_width=0.2, species='Iris-setosa'),\n",
              " Row(sepal_length=4.9, sepal_width=3.0, petal_length=1.4, petal_width=0.2, species='Iris-setosa')]"
            ]
          },
          "metadata": {
            "tags": []
          },
          "execution_count": 27
        }
      ]
    },
    {
      "cell_type": "code",
      "metadata": {
        "id": "E5gNSAXwD7pi",
        "colab_type": "code",
        "outputId": "27f5a758-0010-489e-c9d9-03e0a95651e3",
        "colab": {
          "base_uri": "https://localhost:8080/",
          "height": 54
        }
      },
      "source": [
        "vectorAssembler = VectorAssembler(inputCols=[\"sepal_length\",\"sepal_width\",\"petal_length\",\"petal_width\"],outputCol=\"features\")\n",
        "viris_df = vectorAssembler.transform(iris_df)\n",
        "viris_df.take(1)"
      ],
      "execution_count": 28,
      "outputs": [
        {
          "output_type": "execute_result",
          "data": {
            "text/plain": [
              "[Row(sepal_length=5.1, sepal_width=3.5, petal_length=1.4, petal_width=0.2, species='Iris-setosa', features=DenseVector([5.1, 3.5, 1.4, 0.2]))]"
            ]
          },
          "metadata": {
            "tags": []
          },
          "execution_count": 28
        }
      ]
    },
    {
      "cell_type": "code",
      "metadata": {
        "id": "1f0v-FDLrs8_",
        "colab_type": "code",
        "colab": {}
      },
      "source": [
        "indexer = StringIndexer(inputCol=\"species\",outputCol=\"label\")\n",
        "iv_iris_df = indexer.fit(viris_df).transform(viris_df)"
      ],
      "execution_count": 0,
      "outputs": []
    },
    {
      "cell_type": "code",
      "metadata": {
        "id": "-O359WOasIvF",
        "colab_type": "code",
        "colab": {
          "base_uri": "https://localhost:8080/",
          "height": 89
        },
        "outputId": "90b4e78a-a6cc-46ce-b323-8ae5429a53fc"
      },
      "source": [
        "iv_iris_df.take(3)"
      ],
      "execution_count": 35,
      "outputs": [
        {
          "output_type": "execute_result",
          "data": {
            "text/plain": [
              "[Row(sepal_length=5.1, sepal_width=3.5, petal_length=1.4, petal_width=0.2, species='Iris-setosa', features=DenseVector([5.1, 3.5, 1.4, 0.2]), label=0.0),\n",
              " Row(sepal_length=4.9, sepal_width=3.0, petal_length=1.4, petal_width=0.2, species='Iris-setosa', features=DenseVector([4.9, 3.0, 1.4, 0.2]), label=0.0),\n",
              " Row(sepal_length=4.7, sepal_width=3.2, petal_length=1.3, petal_width=0.2, species='Iris-setosa', features=DenseVector([4.7, 3.2, 1.3, 0.2]), label=0.0)]"
            ]
          },
          "metadata": {
            "tags": []
          },
          "execution_count": 35
        }
      ]
    },
    {
      "cell_type": "markdown",
      "metadata": {
        "id": "OiKQVOMDsgS5",
        "colab_type": "text"
      },
      "source": [
        "## Naive Bayes Classifier"
      ]
    },
    {
      "cell_type": "code",
      "metadata": {
        "id": "ZYkSScnisVIW",
        "colab_type": "code",
        "colab": {}
      },
      "source": [
        "from pyspark.ml.classification import  NaiveBayes\n",
        "from pyspark.ml.evaluation import MulticlassClassificationEvaluator"
      ],
      "execution_count": 0,
      "outputs": []
    },
    {
      "cell_type": "code",
      "metadata": {
        "id": "qqjW-zmBsqXD",
        "colab_type": "code",
        "colab": {}
      },
      "source": [
        "splits = iv_iris_df.randomSplit([0.6,0.4],1)\n",
        "train_df = splits[0]\n",
        "test_df = splits[1]"
      ],
      "execution_count": 0,
      "outputs": []
    },
    {
      "cell_type": "code",
      "metadata": {
        "id": "ZfXK0pGws47t",
        "colab_type": "code",
        "colab": {}
      },
      "source": [
        "nb = NaiveBayes(modelType=\"multinomial\")\n",
        "nbmodel = nb.fit(train_df)"
      ],
      "execution_count": 0,
      "outputs": []
    },
    {
      "cell_type": "code",
      "metadata": {
        "id": "zUwJjZnCtPGO",
        "colab_type": "code",
        "colab": {
          "base_uri": "https://localhost:8080/",
          "height": 54
        },
        "outputId": "a1c5f502-a4d0-4a0a-de87-d1931bc2c7e4"
      },
      "source": [
        "predictions_df = nbmodel.transform(test_df)\n",
        "predictions_df.take(1)"
      ],
      "execution_count": 41,
      "outputs": [
        {
          "output_type": "execute_result",
          "data": {
            "text/plain": [
              "[Row(sepal_length=4.5, sepal_width=2.3, petal_length=1.3, petal_width=0.3, species='Iris-setosa', features=DenseVector([4.5, 2.3, 1.3, 0.3]), label=0.0, rawPrediction=DenseVector([-10.3605, -11.0141, -11.7112]), probability=DenseVector([0.562, 0.2924, 0.1456]), prediction=0.0)]"
            ]
          },
          "metadata": {
            "tags": []
          },
          "execution_count": 41
        }
      ]
    },
    {
      "cell_type": "code",
      "metadata": {
        "id": "fuYvI38-thtp",
        "colab_type": "code",
        "colab": {
          "base_uri": "https://localhost:8080/",
          "height": 34
        },
        "outputId": "0ce4d9c3-1a3d-4ee1-d848-5de8674031fc"
      },
      "source": [
        "evaluator = MulticlassClassificationEvaluator(labelCol=\"label\",predictionCol=\"prediction\",metricName=\"accuracy\")\n",
        "nbAccuracy = evaluator.evaluate(predictions_df)\n",
        "nbAccuracy"
      ],
      "execution_count": 44,
      "outputs": [
        {
          "output_type": "execute_result",
          "data": {
            "text/plain": [
              "0.5862068965517241"
            ]
          },
          "metadata": {
            "tags": []
          },
          "execution_count": 44
        }
      ]
    },
    {
      "cell_type": "markdown",
      "metadata": {
        "id": "SXQEl1b8t1br",
        "colab_type": "text"
      },
      "source": [
        "## Multilayer Perceptron"
      ]
    },
    {
      "cell_type": "code",
      "metadata": {
        "id": "RFqbf8uCt4qg",
        "colab_type": "code",
        "colab": {}
      },
      "source": [
        "from pyspark.ml.classification import MultilayerPerceptronClassifier"
      ],
      "execution_count": 0,
      "outputs": []
    },
    {
      "cell_type": "code",
      "metadata": {
        "id": "oC881hgZzzFw",
        "colab_type": "code",
        "colab": {}
      },
      "source": [
        "#Creating perceptron with 4 layers\n",
        "layers = [4,5,5,3]"
      ],
      "execution_count": 0,
      "outputs": []
    },
    {
      "cell_type": "code",
      "metadata": {
        "id": "rRMa0Wvnz7zp",
        "colab_type": "code",
        "colab": {}
      },
      "source": [
        "mlp = MultilayerPerceptronClassifier(layers=layers, seed=1)\n",
        "mlp_model = mlp.fit(train_df)"
      ],
      "execution_count": 0,
      "outputs": []
    },
    {
      "cell_type": "code",
      "metadata": {
        "id": "ZhUgi0Yl0Myj",
        "colab_type": "code",
        "colab": {}
      },
      "source": [
        "mlp_predictions = mlp_model.transform(test_df)"
      ],
      "execution_count": 0,
      "outputs": []
    },
    {
      "cell_type": "code",
      "metadata": {
        "id": "brJ_TKmJ0Ri9",
        "colab_type": "code",
        "colab": {
          "base_uri": "https://localhost:8080/",
          "height": 34
        },
        "outputId": "bcdc0c1a-1143-41ff-d568-9bb0f2d8f3b8"
      },
      "source": [
        "mlpEvaluator = MulticlassClassificationEvaluator(metricName=\"accuracy\")\n",
        "mlp_accuracy = mlpEvaluator.evaluate(mlp_predictions)\n",
        "mlp_accuracy"
      ],
      "execution_count": 51,
      "outputs": [
        {
          "output_type": "execute_result",
          "data": {
            "text/plain": [
              "0.9482758620689655"
            ]
          },
          "metadata": {
            "tags": []
          },
          "execution_count": 51
        }
      ]
    },
    {
      "cell_type": "markdown",
      "metadata": {
        "id": "aqyK6IbG4D4F",
        "colab_type": "text"
      },
      "source": [
        "## Decision Tree Classifier"
      ]
    },
    {
      "cell_type": "code",
      "metadata": {
        "id": "QayIzz8c4HQ7",
        "colab_type": "code",
        "colab": {}
      },
      "source": [
        "from pyspark.ml.classification import DecisionTreeClassifier"
      ],
      "execution_count": 0,
      "outputs": []
    },
    {
      "cell_type": "code",
      "metadata": {
        "id": "4cdzTbV24QeS",
        "colab_type": "code",
        "colab": {}
      },
      "source": [
        "dt = DecisionTreeClassifier(labelCol=\"label\",featuresCol=\"features\")\n",
        "dt_model = dt.fit(train_df)"
      ],
      "execution_count": 0,
      "outputs": []
    },
    {
      "cell_type": "code",
      "metadata": {
        "id": "cdfD0XTK4epI",
        "colab_type": "code",
        "colab": {}
      },
      "source": [
        "dt_predictions = dt_model.transform(test_df)"
      ],
      "execution_count": 0,
      "outputs": []
    },
    {
      "cell_type": "code",
      "metadata": {
        "id": "sORV845M6AvP",
        "colab_type": "code",
        "colab": {
          "base_uri": "https://localhost:8080/",
          "height": 34
        },
        "outputId": "89cbcef1-2cf2-4fb6-ff5d-1b4383d6a8fb"
      },
      "source": [
        "dtEvaluator = MulticlassClassificationEvaluator(labelCol=\"label\", predictionCol=\"prediction\", metricName=\"accuracy\")\n",
        "dt_accuracy = mlpEvaluator.evaluate(dt_predictions)\n",
        "dt_accuracy"
      ],
      "execution_count": 59,
      "outputs": [
        {
          "output_type": "execute_result",
          "data": {
            "text/plain": [
              "0.9310344827586207"
            ]
          },
          "metadata": {
            "tags": []
          },
          "execution_count": 59
        }
      ]
    },
    {
      "cell_type": "markdown",
      "metadata": {
        "id": "o4tXFLH8z69F",
        "colab_type": "text"
      },
      "source": [
        "# Regression"
      ]
    },
    {
      "cell_type": "markdown",
      "metadata": {
        "id": "A1mx-VXW2di2",
        "colab_type": "text"
      },
      "source": [
        "## Linear Regression"
      ]
    },
    {
      "cell_type": "code",
      "metadata": {
        "id": "f2B2BiU1z9nr",
        "colab_type": "code",
        "colab": {}
      },
      "source": [
        "from pyspark.ml.regression import LinearRegression"
      ],
      "execution_count": 0,
      "outputs": []
    },
    {
      "cell_type": "code",
      "metadata": {
        "id": "NZ39ezfB0CQ4",
        "colab_type": "code",
        "colab": {}
      },
      "source": [
        "pp_df = spark.read.csv(\"dataset/powerplant.csv\",header=True,inferSchema=True)\n"
      ],
      "execution_count": 0,
      "outputs": []
    },
    {
      "cell_type": "code",
      "metadata": {
        "id": "BWG8Xyg00RRo",
        "colab_type": "code",
        "colab": {
          "base_uri": "https://localhost:8080/",
          "height": 34
        },
        "outputId": "5f0a1973-07a7-4d7d-842f-a7c08915106e"
      },
      "source": [
        "pp_df.take(1)"
      ],
      "execution_count": 12,
      "outputs": [
        {
          "output_type": "execute_result",
          "data": {
            "text/plain": [
              "[Row(AT=8.34, V=40.77, AP=1010.84, RH=90.01, PE=480.48)]"
            ]
          },
          "metadata": {
            "tags": []
          },
          "execution_count": 12
        }
      ]
    },
    {
      "cell_type": "code",
      "metadata": {
        "id": "3qCWuC8W1FGp",
        "colab_type": "code",
        "colab": {}
      },
      "source": [
        "from pyspark.ml.feature import VectorAssembler"
      ],
      "execution_count": 0,
      "outputs": []
    },
    {
      "cell_type": "code",
      "metadata": {
        "id": "ew2Om_iB1L0q",
        "colab_type": "code",
        "colab": {
          "base_uri": "https://localhost:8080/",
          "height": 34
        },
        "outputId": "9f37f3eb-5c59-4c13-f061-69b4222bfef8"
      },
      "source": [
        "vectorAssembler = VectorAssembler(inputCols=[\"AT\",\"V\",\"AP\",\"RH\"],outputCol=\"features\")\n",
        "vpp_df = vectorAssembler.transform(pp_df)\n",
        "vpp_df.take(1)"
      ],
      "execution_count": 15,
      "outputs": [
        {
          "output_type": "execute_result",
          "data": {
            "text/plain": [
              "[Row(AT=8.34, V=40.77, AP=1010.84, RH=90.01, PE=480.48, features=DenseVector([8.34, 40.77, 1010.84, 90.01]))]"
            ]
          },
          "metadata": {
            "tags": []
          },
          "execution_count": 15
        }
      ]
    },
    {
      "cell_type": "code",
      "metadata": {
        "id": "dHIAxR6G1fR-",
        "colab_type": "code",
        "colab": {}
      },
      "source": [
        "lr = LinearRegression(featuresCol=\"features\",labelCol=\"PE\")\n",
        "lr_model = lr.fit(vpp_df)"
      ],
      "execution_count": 0,
      "outputs": []
    },
    {
      "cell_type": "code",
      "metadata": {
        "id": "CkWFiYLR1wos",
        "colab_type": "code",
        "colab": {
          "base_uri": "https://localhost:8080/",
          "height": 34
        },
        "outputId": "c70c6df3-787b-428b-a0b2-8cc1402eab51"
      },
      "source": [
        "lr_model.coefficients"
      ],
      "execution_count": 17,
      "outputs": [
        {
          "output_type": "execute_result",
          "data": {
            "text/plain": [
              "DenseVector([-1.9775, -0.2339, 0.0621, -0.1581])"
            ]
          },
          "metadata": {
            "tags": []
          },
          "execution_count": 17
        }
      ]
    },
    {
      "cell_type": "code",
      "metadata": {
        "id": "HK2tN-8m16p4",
        "colab_type": "code",
        "colab": {
          "base_uri": "https://localhost:8080/",
          "height": 34
        },
        "outputId": "c1e2ee39-4d1b-4e81-8034-671cf95a16c3"
      },
      "source": [
        "lr_model.intercept"
      ],
      "execution_count": 18,
      "outputs": [
        {
          "output_type": "execute_result",
          "data": {
            "text/plain": [
              "454.6092741526312"
            ]
          },
          "metadata": {
            "tags": []
          },
          "execution_count": 18
        }
      ]
    },
    {
      "cell_type": "code",
      "metadata": {
        "id": "G1Wd_Ft71_2l",
        "colab_type": "code",
        "colab": {
          "base_uri": "https://localhost:8080/",
          "height": 34
        },
        "outputId": "cf7be2fa-11cd-4175-b3bc-b5dbe46efb49"
      },
      "source": [
        "lr_model.summary.rootMeanSquaredError"
      ],
      "execution_count": 19,
      "outputs": [
        {
          "output_type": "execute_result",
          "data": {
            "text/plain": [
              "4.557126016749477"
            ]
          },
          "metadata": {
            "tags": []
          },
          "execution_count": 19
        }
      ]
    },
    {
      "cell_type": "code",
      "metadata": {
        "id": "tmLo5Iz42TC3",
        "colab_type": "code",
        "colab": {}
      },
      "source": [
        "lr_model.save(\"lr_model\")"
      ],
      "execution_count": 0,
      "outputs": []
    },
    {
      "cell_type": "markdown",
      "metadata": {
        "id": "X9pqhVCG2iRa",
        "colab_type": "text"
      },
      "source": [
        "## Decision Tree Regression"
      ]
    },
    {
      "cell_type": "code",
      "metadata": {
        "id": "Rmgp8JGe2l3T",
        "colab_type": "code",
        "colab": {}
      },
      "source": [
        "from pyspark.ml.regression import DecisionTreeRegressor\n",
        "from pyspark.ml.feature import VectorAssembler\n",
        "from pyspark.ml.evaluation import RegressionEvaluator"
      ],
      "execution_count": 0,
      "outputs": []
    },
    {
      "cell_type": "code",
      "metadata": {
        "id": "UmMG1kAW21b-",
        "colab_type": "code",
        "colab": {}
      },
      "source": [
        "pp_df = spark.read.csv(\"dataset/powerplant.csv\",header=True,inferSchema=True)"
      ],
      "execution_count": 0,
      "outputs": []
    },
    {
      "cell_type": "code",
      "metadata": {
        "id": "fnjVFvVW295q",
        "colab_type": "code",
        "colab": {
          "base_uri": "https://localhost:8080/",
          "height": 34
        },
        "outputId": "eb2c5126-bed6-4981-eb1d-a27becd0f436"
      },
      "source": [
        "pp_df.take(1)"
      ],
      "execution_count": 23,
      "outputs": [
        {
          "output_type": "execute_result",
          "data": {
            "text/plain": [
              "[Row(AT=8.34, V=40.77, AP=1010.84, RH=90.01, PE=480.48)]"
            ]
          },
          "metadata": {
            "tags": []
          },
          "execution_count": 23
        }
      ]
    },
    {
      "cell_type": "code",
      "metadata": {
        "id": "c7T9_HEu3CTF",
        "colab_type": "code",
        "colab": {
          "base_uri": "https://localhost:8080/",
          "height": 34
        },
        "outputId": "185e84a4-a82c-4b7e-9626-e16c3cb98361"
      },
      "source": [
        "vectorAssembler = VectorAssembler(inputCols=[\"AT\",\"V\",\"AP\",\"RH\"],outputCol=\"features\")\n",
        "vpp_df = vectorAssembler.transform(pp_df)\n",
        "vpp_df.take(1)"
      ],
      "execution_count": 24,
      "outputs": [
        {
          "output_type": "execute_result",
          "data": {
            "text/plain": [
              "[Row(AT=8.34, V=40.77, AP=1010.84, RH=90.01, PE=480.48, features=DenseVector([8.34, 40.77, 1010.84, 90.01]))]"
            ]
          },
          "metadata": {
            "tags": []
          },
          "execution_count": 24
        }
      ]
    },
    {
      "cell_type": "code",
      "metadata": {
        "id": "uoZPzTLO3eoU",
        "colab_type": "code",
        "colab": {}
      },
      "source": [
        "splits = vpp_df.randomSplit([0.7,0.3])\n",
        "train_df = splits[0]\n",
        "test_df = splits[1]"
      ],
      "execution_count": 0,
      "outputs": []
    },
    {
      "cell_type": "code",
      "metadata": {
        "id": "Huqpzn383Ppi",
        "colab_type": "code",
        "colab": {}
      },
      "source": [
        "dr = DecisionTreeRegressor(featuresCol=\"features\",labelCol=\"PE\")\n",
        "dr_model = dr.fit(train_df)\n",
        "dr_predictions = dr_model.transform(test_df)"
      ],
      "execution_count": 0,
      "outputs": []
    },
    {
      "cell_type": "code",
      "metadata": {
        "id": "wbNUHlwn3w3e",
        "colab_type": "code",
        "colab": {}
      },
      "source": [
        "evaluator = RegressionEvaluator(predictionCol=\"prediction\",labelCol=\"PE\",metricName='rmse')\n",
        "rmse = evaluator.evaluate(dr_predictions)"
      ],
      "execution_count": 0,
      "outputs": []
    },
    {
      "cell_type": "code",
      "metadata": {
        "id": "eHvX81zF4PiM",
        "colab_type": "code",
        "colab": {
          "base_uri": "https://localhost:8080/",
          "height": 34
        },
        "outputId": "65e7d858-b204-4ee2-b33d-9e65cc859982"
      },
      "source": [
        "rmse"
      ],
      "execution_count": 32,
      "outputs": [
        {
          "output_type": "execute_result",
          "data": {
            "text/plain": [
              "4.5729265940611405"
            ]
          },
          "metadata": {
            "tags": []
          },
          "execution_count": 32
        }
      ]
    },
    {
      "cell_type": "markdown",
      "metadata": {
        "id": "toV7mAyC4Tqh",
        "colab_type": "text"
      },
      "source": [
        "## Gradient Boosting Tree Regression"
      ]
    },
    {
      "cell_type": "code",
      "metadata": {
        "id": "KuIR-4NN4dIF",
        "colab_type": "code",
        "colab": {}
      },
      "source": [
        "from pyspark.ml.regression import GBTRegressor\n",
        "gbt = GBTRegressor(featuresCol=\"features\",labelCol=\"PE\")\n",
        "gbt_model = gbt.fit(train_df)\n",
        "gbt_predictions = gbt_model.transform(test_df)\n",
        "gbt_rmse = evaluator.evaluate(gbt_predictions)"
      ],
      "execution_count": 0,
      "outputs": []
    },
    {
      "cell_type": "code",
      "metadata": {
        "id": "2aB_HtPI5ALu",
        "colab_type": "code",
        "colab": {
          "base_uri": "https://localhost:8080/",
          "height": 34
        },
        "outputId": "8643b771-ffe0-4551-ca2a-fa9d9687b2c7"
      },
      "source": [
        "gbt_rmse"
      ],
      "execution_count": 35,
      "outputs": [
        {
          "output_type": "execute_result",
          "data": {
            "text/plain": [
              "4.188017375539632"
            ]
          },
          "metadata": {
            "tags": []
          },
          "execution_count": 35
        }
      ]
    },
    {
      "cell_type": "code",
      "metadata": {
        "id": "jyPj89oi402F",
        "colab_type": "code",
        "colab": {}
      },
      "source": [
        ""
      ],
      "execution_count": 0,
      "outputs": []
    }
  ]
}